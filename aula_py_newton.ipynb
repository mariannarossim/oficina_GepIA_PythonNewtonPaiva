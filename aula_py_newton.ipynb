{
  "nbformat": 4,
  "nbformat_minor": 0,
  "metadata": {
    "colab": {
      "provenance": []
    },
    "kernelspec": {
      "name": "python3",
      "display_name": "Python 3"
    },
    "language_info": {
      "name": "python"
    }
  },
  "cells": [
    {
      "cell_type": "markdown",
      "source": [
        "\n",
        "\n",
        "Exercício 1: Explorando Operações e Entradas de Usuário\n",
        "\n",
        "Considere o seguinte conjunto de instruções em Python. Execute cada linha de código e, para cada print, indique qual será a saída produzida. Certifique-se de compreender como as operações matemáticas, concatenação de strings, conversões de tipo e entradas de usuário estão sendo utilizadas. Ao final do código, o usuário é solicitado a fornecer seu nome e nota. O programa então fornece mensagens personalizadas com base na nota inserida. nstruções:\n",
        "\n",
        "Execute cada linha de código e registre as saídas produzidas. Explique como as operações matemáticas e de string estão sendo aplicadas em cada print. Observe como a conversão de tipo é utilizada para concatenar strings. Experimente inserir seu próprio nome e nota quando solicitado e veja como o programa responde com mensagens personalizadas.\n",
        "\n",
        "Esse exercício visa consolidar o entendimento de conceitos básicos como operações aritméticas, manipulação de strings, conversões de tipo e interação com o usuário.\n"
      ],
      "metadata": {
        "id": "awn1BZ2cFCZy"
      }
    },
    {
      "cell_type": "code",
      "source": [
        "\n",
        "print(10 + 4)\n",
        "print('10' + '4')\n",
        "print('Michelle quero ' + str(10) + ' pontos')  # Converta 10 para string\n",
        "print('Michelle quero', 10, 'pontos')\n",
        "\n",
        "nome = 'mari'\n",
        "sobrenome = 'linda'\n",
        "idade = 18\n",
        "peso = 60.5\n",
        "print(f'A {nome} {sobrenome} tem {idade} anos e pesa {peso}')\n",
        "\n",
        "nome = input('Qual seu nome? ')\n",
        "print('Prazer em te conhecer', nome)\n",
        "\n",
        "nota = float(input('Qual foi sua nota? '))\n",
        "if nota > 8:\n",
        "    print('Parabéns!!!')\n",
        "elif 6 < nota < 8:\n",
        "    print('Você pode melhorar!!!')\n",
        "else:\n",
        "    print('Estude mais!!!')"
      ],
      "metadata": {
        "id": "wHvsfzShEmc4"
      },
      "execution_count": null,
      "outputs": []
    },
    {
      "cell_type": "markdown",
      "source": [
        "Exercício 2: Explorando Entradas e Condicionais\n",
        "Crie um programa em Python que realiza as seguintes tarefas:\n",
        "\n",
        "a) Receba dois números do usuário e mostre a soma deles.\n",
        "\n",
        "b) Solicite ao usuário que informe seu dia, mês e ano de nascimento, e então exiba essas informações na tela.\n",
        "\n",
        "c) Peça ao usuário que forneça seu nome, idade, sobrenome e peso. Em seguida, informe se a pessoa pode votar, tirar carteira, tomar vacina, se é maior de idade e se é considerada idosa (60 anos ou mais).\n",
        "\n",
        "Instruções:\n",
        "\n",
        "Execute o programa, fornecendo entradas para os números, data de nascimento, nome, idade, sobrenome e peso.\n",
        "Observe as mensagens geradas pelo programa com base nas condições especificadas.\n",
        "Certifique-se de entender como as variáveis e as estruturas condicionais foram utilizadas para tomar decisões com base nas informações fornecidas pelo usuário."
      ],
      "metadata": {
        "id": "9leC61oCFWCF"
      }
    },
    {
      "cell_type": "code",
      "source": [
        "num1 = float(input(\"Digite o primeiro número: \"))\n",
        "num2 = float(input(\"Digite o segundo número: \"))\n",
        "soma = num1 + num2\n",
        "print(f\"A soma dos números é: {soma}\")\n",
        "\n",
        "data_nascimento = input(\"Digite sua data de nascimento (DD/MM/AAAA): \")\n",
        "dia, mes, ano = map(int, data_nascimento.split('/'))\n",
        "print(f\"Você nasceu em {dia}/{mes}/{ano}\")\n",
        "\n",
        "nome = input(\"Digite seu nome: \")\n",
        "idade = int(input(\"Digite sua idade: \"))\n",
        "sobrenome = input(\"Digite seu sobrenome: \")\n",
        "peso = float(input(\"Digite seu peso: \"))\n",
        "\n",
        "print(f\"Olá {nome} {sobrenome}!\")\n",
        "if idade >= 18:\n",
        "    print(\"Você pode votar.\")\n",
        "    print(\"Você pode tirar carteira de motorista.\")\n",
        "    print(\"Você pode tomar vacina.\")\n",
        "else:\n",
        "    print(\"Você não pode votar.\")\n",
        "    print(\"Você não pode tirar carteira de motorista.\")\n",
        "    print(\"Você não pode tomar vacina.\")\n",
        "\n",
        "if idade >= 60:\n",
        "    print(\"Você é considerado idoso.\")\n"
      ],
      "metadata": {
        "id": "d1prGbSyEoBn"
      },
      "execution_count": null,
      "outputs": []
    },
    {
      "cell_type": "markdown",
      "source": [
        "\n",
        "Exercício 3: Explorando Operadores Aritméticos e Identificação de Float\n",
        "\n",
        "Crie um programa em Python que realiza operações aritméticas com dois números e exibe os resultados. Além disso, o programa deve verificar se o resultado da divisão é um número do tipo float.\n",
        "\n",
        "Instruções: Execute o programa e observe os resultados das operações aritméticas. Verifique se a mensagem indicando se o resultado da divisão é um número do tipo float está correta. Experimente alterar os valores de a e b para explorar diferentes casos. Entenda como o operador isinstance() é utilizado para verificar o tipo da variável.\n",
        "\n",
        "\n",
        "Crie um programa em Python que realiza operações aritméticas com dois números e exibe os resultados. Além disso, o programa deve verificar se o resultado da divisão é um número do tipo float.\n",
        "\n",
        "Instruções:\n",
        "Execute o programa e observe os resultados das operações aritméticas.\n",
        "    Verifique se a mensagem indicando se o resultado da divisão é um número do tipo float está correta.\n",
        "    Experimente alterar os valores de a e b para explorar diferentes casos.\n",
        "    Entenda como o operador isinstance() é utilizado para verificar o tipo da variável."
      ],
      "metadata": {
        "id": "HTQq466GGNpt"
      }
    },
    {
      "cell_type": "code",
      "source": [
        "# Operadores aritméticos\n",
        "a = 10\n",
        "b = 5\n",
        "soma = a + b\n",
        "subtracao = a - b\n",
        "multiplicacao = a * b\n",
        "divisao = a / b\n",
        "divisao_inteira = a // b\n",
        "resto_divisao = a % b\n",
        "exponenciacao = a ** b\n",
        "\n",
        "# Verifica se o resultado da divisão é um float\n",
        "resultado_divisao_eh_float = isinstance(divisao, float)\n",
        "\n",
        "# Exibe os resultados\n",
        "print(f\"Soma: {soma}\")\n",
        "print(f\"Subtração: {subtracao}\")\n",
        "print(f\"Multiplicação: {multiplicacao}\")\n",
        "print(f\"Divisão: {divisao}\")\n",
        "print(f\"Divisão Inteira: {divisao_inteira}\")\n",
        "print(f\"Resto da Divisão (Módulo): {resto_divisao}\")\n",
        "print(f\"Exponenciação: {exponenciacao}\")\n",
        "\n",
        "# Verifica se o resultado da divisão é um float e exibe a mensagem correspondente\n",
        "if resultado_divisao_eh_float:\n",
        "    print(\"O resultado da divisão é um número do tipo float.\")\n",
        "else:\n",
        "    print(\"O resultado da divisão não é um número do tipo float.\")\n"
      ],
      "metadata": {
        "id": "OBY6vq2sEoMs"
      },
      "execution_count": null,
      "outputs": []
    },
    {
      "cell_type": "markdown",
      "source": [
        "Exercício 4: Antecessor e Sucessor:\n",
        "\n",
        "Crie um programa que solicite ao usuário um número e, em seguida, exiba o antecessor e o sucessor desse número."
      ],
      "metadata": {
        "id": "Edcs8LAXHLx_"
      }
    },
    {
      "cell_type": "code",
      "source": [
        "numero = float(input(\"Digite um número: \"))\n",
        "antecessor = numero - 1\n",
        "sucessor = numero + 1\n",
        "print(f\"Antecessor: {antecessor}\")\n",
        "print(f\"Sucessor: {sucessor}\")"
      ],
      "metadata": {
        "id": "brsMqBSgGMFt"
      },
      "execution_count": null,
      "outputs": []
    },
    {
      "cell_type": "markdown",
      "source": [
        "Exercício 5:Média de Três Números:\n",
        "\n",
        "Escreva um script que solicite três números ao usuário e calcule a média deles, exibindo o resultado."
      ],
      "metadata": {
        "id": "j8FNPmq-Hj_m"
      }
    },
    {
      "cell_type": "code",
      "source": [
        "num1 = float(input(\"Digite o primeiro número: \"))\n",
        "num2 = float(input(\"Digite o segundo número: \"))\n",
        "num3 = float(input(\"Digite o terceiro número: \"))\n",
        "media = (num1 + num2 + num3) / 3\n",
        "print(f\"A média dos números é: {media}\")"
      ],
      "metadata": {
        "id": "2uU3srLnGMT5"
      },
      "execution_count": null,
      "outputs": []
    },
    {
      "cell_type": "markdown",
      "source": [
        "Exercício 6: Operações com um Número:\n",
        "\n",
        "Desenvolva um programa que receba um número do usuário e realize as seguintes operações:\n",
        "        Calcule o dobro do número.\n",
        "        Calcule o triplo do número.\n",
        "        Calcule a metade do número.\n",
        "        Calcule a raiz quadrada do número."
      ],
      "metadata": {
        "id": "GmQ2qJttHtKg"
      }
    },
    {
      "cell_type": "code",
      "source": [
        "numero = float(input(\"Digite um número: \"))\n",
        "dobro = numero * 2\n",
        "triplo = numero * 3\n",
        "metade = numero / 2\n",
        "raiz = numero ** 0.5\n",
        "print(f\"Dobro: {dobro}\")\n",
        "print(f\"Triplo: {triplo}\")\n",
        "print(f\"Metade: {metade}\")\n",
        "print(f\"Raiz quadrada: {raiz}\")"
      ],
      "metadata": {
        "id": "T8BkaD1HHtls"
      },
      "execution_count": null,
      "outputs": []
    },
    {
      "cell_type": "markdown",
      "source": [
        "Exercício 7: Cálculo de Litros de Tinta:\n",
        "\n",
        "Crie um script que peça ao usuário a altura e largura de uma parede, assim como o rendimento da tinta em metros por litro. Com essas informações, calcule e exiba a quantidade de litros de tinta necessários para pintar a parede."
      ],
      "metadata": {
        "id": "6bE9470bH7jf"
      }
    },
    {
      "cell_type": "code",
      "source": [
        "altura = float(input(\"Digite a altura da parede em metros: \"))\n",
        "largura = float(input(\"Digite a largura da parede em metros: \"))\n",
        "rendimento_tinta = float(input(\"Digite o rendimento da tinta em metros por litro: \"))\n",
        "area_parede = altura * largura\n",
        "litros_necessarios = area_parede / rendimento_tinta\n",
        "print(f\"Serão necessários {litros_necessarios:.2f} litros de tinta para pintar a parede.\")"
      ],
      "metadata": {
        "id": "3YVj0Bo-GMfq"
      },
      "execution_count": null,
      "outputs": []
    },
    {
      "cell_type": "markdown",
      "source": [
        "Exercício 8: Desconto em Produto:\n",
        "\n",
        "Solicite ao usuário o valor de um produto e a porcentagem de desconto desejada. Calcule o valor final do produto após o desconto e exiba o resultado."
      ],
      "metadata": {
        "id": "C6S2R1puIK5Z"
      }
    },
    {
      "cell_type": "code",
      "source": [
        "valor_produto = float(input(\"Digite o valor do produto: \"))\n",
        "percentual_desconto = float(input(\"Digite a porcentagem de desconto: \"))\n",
        "valor_desconto = (percentual_desconto / 100) * valor_produto\n",
        "valor_final = valor_produto - valor_desconto\n",
        "print(f\"O valor final do produto com desconto é: R${valor_final:.2f}\")"
      ],
      "metadata": {
        "colab": {
          "base_uri": "https://localhost:8080/"
        },
        "id": "WwRua7UKILUc",
        "outputId": "b30f9175-992e-4ee8-e6d2-73ebe619a353"
      },
      "execution_count": 3,
      "outputs": [
        {
          "output_type": "stream",
          "name": "stdout",
          "text": [
            "Digite o valor do produto: 45\n",
            "Digite a porcentagem de desconto: 78\n",
            "O valor final do produto com desconto é: R$9.90\n"
          ]
        }
      ]
    },
    {
      "cell_type": "markdown",
      "source": [
        "Exercício 9: Condições para Empréstimo:\n",
        "\n",
        "Peça ao usuário sua renda mensal e o histórico de crédito (perfeito, bom, ruim). Determine se a pessoa está apta para fazer um empréstimo com base nas seguintes condições:\n",
        "        Histórico perfeito.\n",
        "        Histórico bom e renda superior a 2000.\n",
        "        Renda superior a 100000."
      ],
      "metadata": {
        "id": "woRPujtjIVLd"
      }
    },
    {
      "cell_type": "code",
      "source": [
        "renda_mensal = float(input(\"Digite sua renda mensal: \"))\n",
        "historico_credito = input(\"Digite o histórico de crédito (perfeito, bom, ruim): \").lower()\n",
        "\n",
        "if historico_credito == \"perfeito\" or (historico_credito == \"bom\" and renda_mensal > 2000) or renda_mensal > 100000:\n",
        "    print(\"Você está apto para fazer um empréstimo.\")\n",
        "else:\n",
        "    print(\"Você não está apto para fazer um empréstimo.\")"
      ],
      "metadata": {
        "id": "7t8gCMcPIVbw"
      },
      "execution_count": null,
      "outputs": []
    },
    {
      "cell_type": "markdown",
      "source": [
        "Exercício 10: Repetição em Python:\n",
        "\n",
        "Crie um programa que permita ao usuário digitar três números e os exiba. Em seguida, utilize estruturas de repetição para:\n",
        "        Exibir números de 0 a 2.\n",
        "        Exibir números de 3 a 9.\n",
        "        Exibir números de 3 a 9 com incremento de 2.\n",
        "        Permitir que o usuário digite números até que ele insira o valor 1"
      ],
      "metadata": {
        "id": "zoSW6oDtIkWj"
      }
    },
    {
      "cell_type": "code",
      "source": [],
      "metadata": {
        "id": "71lAgA48Ikp-"
      },
      "execution_count": null,
      "outputs": []
    },
    {
      "cell_type": "markdown",
      "source": [
        "Exercício 11: Soma de Números até 100:\n",
        "\n",
        "Modifique o programa anterior para somar os números digitados pelo usuário até que a soma atinja ou ultrapasse 100."
      ],
      "metadata": {
        "id": "ufJqZ3iEIwk-"
      }
    },
    {
      "cell_type": "code",
      "source": [],
      "metadata": {
        "id": "N2FujqagIxA7"
      },
      "execution_count": null,
      "outputs": []
    },
    {
      "cell_type": "markdown",
      "source": [
        "Exercício 12: Listas em Python:\n",
        "\n",
        "  Explore o conceito de listas em Python com os seguintes exemplos:\n",
        "        Crie uma lista de números inteiros.\n",
        "        Crie uma lista de strings.\n",
        "        Crie uma lista vazia.\n",
        "        Acesse e modifique elementos da lista.\n",
        "        Adicione e remova elementos da lista."
      ],
      "metadata": {
        "id": "5B6Y5VDsI1s3"
      }
    },
    {
      "cell_type": "code",
      "source": [],
      "metadata": {
        "id": "R8MCXLJsI2Yh"
      },
      "execution_count": null,
      "outputs": []
    },
    {
      "cell_type": "markdown",
      "source": [
        "Exercício 13: Manipulação Avançada de Listas:\n",
        "Realize operações avançadas com listas:\n",
        "        Exiba todos os valores de uma lista.\n",
        "        Mostre o tamanho de uma lista.\n",
        "        Crie uma lista com 10 números, permitindo que o usuário insira números até que ele digite 0 para sair.\n",
        "        Verifique se um número está presente na lista.\n",
        "        Preencha uma lista até que o usuário digite 10000.\n",
        "        Some todos os valores de uma lista.\n",
        "        Calcule a média de uma lista.\n",
        "        Encontre o maior elemento de uma lista.\n",
        "        Mostre o total de elementos de uma lista.\n",
        "        Inverta a ordem de uma lista."
      ],
      "metadata": {
        "id": "C059lIp1I7gZ"
      }
    },
    {
      "cell_type": "code",
      "source": [],
      "metadata": {
        "id": "k84A9rhQGMtd"
      },
      "execution_count": 3,
      "outputs": []
    },
    {
      "cell_type": "markdown",
      "source": [
        "Execício 14: Programa Interativo com Listas:\n",
        "\n",
        "Desenvolva um programa interativo que permita ao usuário realizar diversas operações com uma lista, como adicionar, remover e verificar elementos únicos até que ele decida encerrar o programa."
      ],
      "metadata": {
        "id": "KD0z0eh-JB0a"
      }
    },
    {
      "cell_type": "code",
      "source": [],
      "metadata": {
        "id": "jFRgowlyEoVU"
      },
      "execution_count": null,
      "outputs": []
    },
    {
      "cell_type": "markdown",
      "source": [
        "# SEGUNDA LISTA"
      ],
      "metadata": {
        "id": "kOXX36vZLN7d"
      }
    },
    {
      "cell_type": "markdown",
      "source": [
        "Exercício 1: Tamanho de uma Lista\n",
        "\n",
        "Escreva um programa que utilize a função len para determinar e exibir o tamanho de uma lista de números."
      ],
      "metadata": {
        "id": "Cq70xJ6PJHHE"
      }
    },
    {
      "cell_type": "code",
      "source": [],
      "metadata": {
        "id": "zdrY4PDSJHjT"
      },
      "execution_count": null,
      "outputs": []
    },
    {
      "cell_type": "markdown",
      "source": [
        "Exercício 2: Loop com 10 Números\n",
        "\n",
        "  Desenvolva um script que permita ao usuário inserir 10 números. O programa deve continuar solicitando números até que o usuário digite 0, momento em que o loop deve ser interrompido. Exiba os números digitados."
      ],
      "metadata": {
        "id": "PZNSPokCJR_P"
      }
    },
    {
      "cell_type": "code",
      "source": [],
      "metadata": {
        "id": "zYtf5_4lJSTq"
      },
      "execution_count": null,
      "outputs": []
    },
    {
      "cell_type": "markdown",
      "source": [
        "Exercício 3: Verificação de Existência na Lista\n",
        "\n",
        "  Crie um programa que peça ao usuário para inserir um número. Verifique se esse número está presente em uma lista predefinida e informe o resultado."
      ],
      "metadata": {
        "id": "U53aSGNDJXF-"
      }
    },
    {
      "cell_type": "code",
      "source": [],
      "metadata": {
        "id": "QkBV6IGEJQ5F"
      },
      "execution_count": null,
      "outputs": []
    },
    {
      "cell_type": "markdown",
      "source": [
        "Exercício 4: Preenchimento de Lista até 10000\n",
        "\n",
        "  Elabore um script que permita ao usuário preencher uma lista com números até que ele insira o valor 10000. Exiba os números digitados."
      ],
      "metadata": {
        "id": "bWJB5q8BJa18"
      }
    },
    {
      "cell_type": "code",
      "source": [],
      "metadata": {
        "id": "PDuPTLgPJbU4"
      },
      "execution_count": null,
      "outputs": []
    },
    {
      "cell_type": "markdown",
      "source": [
        "Exercício 5: Soma dos Valores de uma Lista\n",
        "\n",
        "  Escreva um programa que utilize a função sum para calcular e exibir a soma de todos os valores em uma lista."
      ],
      "metadata": {
        "id": "z4DwCQFgJghh"
      }
    },
    {
      "cell_type": "code",
      "source": [],
      "metadata": {
        "id": "-O39lqW3Jg8b"
      },
      "execution_count": null,
      "outputs": []
    },
    {
      "cell_type": "markdown",
      "source": [
        "Exercício 6: Média dos Valores de uma Lista\n",
        "\n",
        "  Crie um script que calcule a média dos valores de uma lista de números e a exiba."
      ],
      "metadata": {
        "id": "smqFrPq2Jl_H"
      }
    },
    {
      "cell_type": "code",
      "source": [],
      "metadata": {
        "id": "z-76RYzLJm3J"
      },
      "execution_count": null,
      "outputs": []
    },
    {
      "cell_type": "markdown",
      "source": [
        "Exercício 7: Maior Elemento de uma Lista\n",
        "\n",
        "  Desenvolva um programa que utilize a função max para determinar e mostrar o maior elemento presente em uma lista."
      ],
      "metadata": {
        "id": "9MO6a2USJrnS"
      }
    },
    {
      "cell_type": "code",
      "source": [],
      "metadata": {
        "id": "NCAlSxUQJudE"
      },
      "execution_count": null,
      "outputs": []
    },
    {
      "cell_type": "markdown",
      "source": [
        "Exercício 8: Total de Elementos de uma Lista\n",
        "\n",
        "  Escreva um script que utilize a função len para calcular e exibir o total de elementos presentes em uma lista."
      ],
      "metadata": {
        "id": "Sc_72rRrJvrM"
      }
    },
    {
      "cell_type": "code",
      "source": [],
      "metadata": {
        "id": "9VZjZmv_JzBH"
      },
      "execution_count": null,
      "outputs": []
    },
    {
      "cell_type": "markdown",
      "source": [
        "Exercício 9: Inversão da Ordem de uma Lista\n",
        "\n",
        "  Crie um programa que inverta a ordem dos elementos em uma lista e exiba o resultado."
      ],
      "metadata": {
        "id": "VKDynpf_Jzd6"
      }
    },
    {
      "cell_type": "code",
      "source": [],
      "metadata": {
        "id": "ueHrqdBKJ224"
      },
      "execution_count": null,
      "outputs": []
    },
    {
      "cell_type": "markdown",
      "source": [
        "Exercício 10: Verificação de Presença em Lista (com saída)\n",
        "\n",
        "  Elabore um programa que solicite ao usuário um número e verifique se ele está presente em uma lista predefinida. O programa deve continuar pedindo números até que o usuário insira \"0\" para sair."
      ],
      "metadata": {
        "id": "5iA_ojPjJ3R5"
      }
    },
    {
      "cell_type": "code",
      "source": [],
      "metadata": {
        "id": "0GBONoDXJ65C"
      },
      "execution_count": null,
      "outputs": []
    },
    {
      "cell_type": "markdown",
      "source": [
        "Exercício 11: Remoção de Elementos Específicos em Lista\n",
        "\n",
        "  Desenvolva um script que permita ao usuário remover elementos específicos de uma lista até que ele decida encerrar o processo. Exiba a lista final."
      ],
      "metadata": {
        "id": "oKD2m_q0J7Yp"
      }
    },
    {
      "cell_type": "code",
      "source": [],
      "metadata": {
        "id": "4uz8CR3hJ_l_"
      },
      "execution_count": null,
      "outputs": []
    },
    {
      "cell_type": "markdown",
      "source": [
        "Exercício 12: Adição de Elementos Únicos em Lista\n",
        "\n",
        "  Crie um programa que permita ao usuário adicionar elementos a uma lista, garantindo que esses elementos sejam únicos (não duplicados). O programa deve continuar pedindo números até que o usuário insira \"0\" para parar. Exiba a lista final."
      ],
      "metadata": {
        "id": "LqdmJgupKADO"
      }
    },
    {
      "cell_type": "code",
      "source": [],
      "metadata": {
        "id": "LVDPQ8wvJflW"
      },
      "execution_count": null,
      "outputs": []
    }
  ]
}